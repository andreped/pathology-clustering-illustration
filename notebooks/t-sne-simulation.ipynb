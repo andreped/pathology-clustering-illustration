{
 "cells": [
  {
   "cell_type": "code",
   "execution_count": 1,
   "metadata": {},
   "outputs": [],
   "source": [
    "!pip install -q medmnist numpy==1.23.1 pillow tensorboard==2.13.0"
   ]
  },
  {
   "cell_type": "code",
   "execution_count": 2,
   "metadata": {},
   "outputs": [
    {
     "name": "stdout",
     "output_type": "stream",
     "text": [
      "Using downloaded and verified file: /Users/andreped/.medmnist/pathmnist.npz\n"
     ]
    }
   ],
   "source": [
    "import numpy as np\n",
    "import medmnist\n",
    "from medmnist import INFO\n",
    "from PIL import Image\n",
    "import os\n",
    "from tensorboard.plugins import projector\n",
    "import shutil\n",
    "\n",
    "\n",
    "dataset = \"pathmnist\"\n",
    "info = INFO[dataset]\n",
    "task = info['task']\n",
    "n_channels = info['n_channels']\n",
    "n_classes = len(info['label'])\n",
    "\n",
    "DataClass = getattr(medmnist, info['python_class'])\n",
    "\n",
    "pil_dataset = DataClass(split='train', download=True)\n",
    "\n",
    "# iterate over all images and extract simple features\n",
    "data = {\"images\": [], \"features\": [], \"labels\": []}\n",
    "for i, (pil_img, label) in enumerate(pil_dataset):\n",
    "    # extract HSV histogram and flatten it to create 1D array\n",
    "    img = np.asarray(pil_img.convert('HSV'))\n",
    "    feat = [np.histogram(img[..., i], bins=4, range=(0, 255))[0] for i in range(img.shape[-1])]\n",
    "    feat = np.concatenate(feat)\n",
    "\n",
    "    pil_img.resize((512, 512))\n",
    "\n",
    "    data[\"images\"].append(pil_img)\n",
    "    data[\"features\"].append(feat)\n",
    "    data[\"labels\"].append(label)\n",
    "\n",
    "    if i > 1000:\n",
    "        break"
   ]
  },
  {
   "cell_type": "code",
   "execution_count": 3,
   "metadata": {},
   "outputs": [],
   "source": [
    "def create_sprite_image(pil_images, save_path):\n",
    "    # Assuming all images have the same width and height\n",
    "    img_width, img_height = pil_images[0].size\n",
    " \n",
    "    # create a master square images\n",
    "    row_coln_count = int(np.ceil(np.sqrt(len(pil_images))))\n",
    "    master_img_width = img_width * row_coln_count\n",
    "    master_img_height = img_height * row_coln_count\n",
    " \n",
    "    master_image = Image.new(\n",
    "        mode = 'RGBA',\n",
    "        size = (master_img_width, master_img_height),\n",
    "        color = (0, 0, 0, 0)\n",
    "    )\n",
    " \n",
    "    for i, img in enumerate(pil_images):\n",
    "        div, mod = divmod(i, row_coln_count)\n",
    "        w_loc = img_width * mod\n",
    "        h_loc = img_height * div\n",
    "        master_image.paste(img, (w_loc, h_loc))\n",
    " \n",
    "    master_image.convert('RGB').save(save_path, transparency=0)"
   ]
  },
  {
   "cell_type": "code",
   "execution_count": 4,
   "metadata": {},
   "outputs": [],
   "source": [
    "def write_embedding(log_dir, pil_images, features, labels):\n",
    "    metadata_filename = \"metadata.tsv\"\n",
    "    tensor_filename = \"features.tsv\"\n",
    "    sprite_image_filename = \"sprite.jpg\"\n",
    "    img_width, img_height = pil_images[0].size\n",
    " \n",
    "    if os.path.exists(log_dir):\n",
    "        # remove existing log directory\n",
    "        shutil.rmtree(log_dir)\n",
    "    \n",
    "    os.makedirs(log_dir, exist_ok=True)\n",
    "    with open(os.path.join(log_dir, metadata_filename), \"w\") as f:\n",
    "        for label in labels:\n",
    "            f.write(\"{}\\n\".format(label))\n",
    "    with open(os.path.join(log_dir, tensor_filename), \"w\") as f:\n",
    "        for tensor in features:\n",
    "            f.write(\"{}\\n\".format(\"\\t\".join(str(x) for x in tensor)))\n",
    "    \n",
    "    # create sprite images\n",
    "    sprite_image_path = os.path.join(log_dir, sprite_image_filename)\n",
    "    create_sprite_image(pil_images, sprite_image_path)\n",
    "    \n",
    "    # configure projector\n",
    "    config = projector.ProjectorConfig()\n",
    "    embedding = config.embeddings.add()\n",
    "    embedding.metadata_path = metadata_filename\n",
    "    embedding.tensor_path = tensor_filename\n",
    "    embedding.sprite.image_path = sprite_image_filename\n",
    "    embedding.sprite.single_image_dim.extend([img_width, img_height])\n",
    "\n",
    "    # Create the configuration file\n",
    "    projector.visualize_embeddings(log_dir, config)"
   ]
  },
  {
   "cell_type": "code",
   "execution_count": 7,
   "metadata": {},
   "outputs": [
    {
     "data": {
      "text/plain": [
       "Reusing TensorBoard on port 6006 (pid 92751), started 0:00:19 ago. (Use '!kill 92751' to kill it.)"
      ]
     },
     "metadata": {},
     "output_type": "display_data"
    },
    {
     "data": {
      "text/html": [
       "\n",
       "      <iframe id=\"tensorboard-frame-3e5069dfcebc021c\" width=\"100%\" height=\"800\" frameborder=\"0\">\n",
       "      </iframe>\n",
       "      <script>\n",
       "        (function() {\n",
       "          const frame = document.getElementById(\"tensorboard-frame-3e5069dfcebc021c\");\n",
       "          const url = new URL(\"http://localhost\");\n",
       "          const port = 6006;\n",
       "          if (port) {\n",
       "            url.port = port;\n",
       "          }\n",
       "          frame.src = url;\n",
       "        })();\n",
       "      </script>\n",
       "    "
      ],
      "text/plain": [
       "<IPython.core.display.HTML object>"
      ]
     },
     "metadata": {},
     "output_type": "display_data"
    }
   ],
   "source": [
    "LOG_DIR = os.path.join(\"logs\", \"data\")\n",
    "write_embedding(LOG_DIR, data[\"images\"], np.array(data[\"features\"]), np.array(data[\"labels\"]))\n",
    "\n",
    "# %load_ext tensorboard\n",
    "%reload_ext tensorboard\n",
    " \n",
    "%tensorboard --logdir {LOG_DIR}"
   ]
  }
 ],
 "metadata": {
  "kernelspec": {
   "display_name": ".venv",
   "language": "python",
   "name": "python3"
  },
  "language_info": {
   "codemirror_mode": {
    "name": "ipython",
    "version": 3
   },
   "file_extension": ".py",
   "mimetype": "text/x-python",
   "name": "python",
   "nbconvert_exporter": "python",
   "pygments_lexer": "ipython3",
   "version": "3.10.11"
  }
 },
 "nbformat": 4,
 "nbformat_minor": 2
}
